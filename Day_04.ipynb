{
  "nbformat": 4,
  "nbformat_minor": 0,
  "metadata": {
    "colab": {
      "provenance": []
    },
    "kernelspec": {
      "name": "python3",
      "display_name": "Python 3"
    },
    "language_info": {
      "name": "python"
    }
  },
  "cells": [
    {
      "cell_type": "code",
      "execution_count": null,
      "metadata": {
        "id": "DJ9mZpy2aSG8"
      },
      "outputs": [],
      "source": [
        "import matplotlib.pyplot as plt"
      ]
    },
    {
      "cell_type": "code",
      "source": [
        "from tenserflow.keras.datasets import mnist"
      ],
      "metadata": {
        "id": "UhPiqld5bVo8"
      },
      "execution_count": null,
      "outputs": []
    },
    {
      "cell_type": "code",
      "source": [
        "(x_train, y_train), (x_test, y_test) = mnist.load_data()"
      ],
      "metadata": {
        "id": "kDs_JEGdbaCf"
      },
      "execution_count": 27,
      "outputs": []
    },
    {
      "cell_type": "code",
      "source": [
        "plt.imshow(x_train[0], cmap=plt.get_cmap('gray'))"
      ],
      "metadata": {
        "colab": {
          "base_uri": "https://localhost:8080/",
          "height": 447
        },
        "id": "nAK_tlrObdnS",
        "outputId": "0b8556d4-dec1-4c9d-d37d-1c1a4e843c85"
      },
      "execution_count": 24,
      "outputs": [
        {
          "output_type": "execute_result",
          "data": {
            "text/plain": [
              "<matplotlib.image.AxesImage at 0x7f3df22cec20>"
            ]
          },
          "metadata": {},
          "execution_count": 24
        },
        {
          "output_type": "display_data",
          "data": {
            "text/plain": [
              "<Figure size 640x480 with 1 Axes>"
            ],
            "image/png": "[encoded data removed]"
          },
          "metadata": {}
        }
      ]
    },
    {
      "cell_type": "code",
      "source": [
        "x_train.shape[0]\n"
      ],
      "metadata": {
        "colab": {
          "base_uri": "https://localhost:8080/"
        },
        "id": "rJevEq-ohXiP",
        "outputId": "f787cfdd-1e75-4e8f-bd1a-0712b2e9df3a"
      },
      "execution_count": 25,
      "outputs": [
        {
          "output_type": "execute_result",
          "data": {
            "text/plain": [
              "10000"
            ]
          },
          "metadata": {},
          "execution_count": 25
        }
      ]
    },
    {
      "cell_type": "code",
      "source": [
        "x_train,x_test = x_train/255.0,x_test / 255.0"
      ],
      "metadata": {
        "id": "KPgk06Q2ivEt"
      },
      "execution_count": 33,
      "outputs": []
    },
    {
      "cell_type": "code",
      "source": [
        "x_train = x_train.reshape((x_train.shape[0],28*28))\n",
        "x_test = x_test.reshape((x_test.shape[0],28*28))\n",
        "\n"
      ],
      "metadata": {
        "id": "C_JLzfhSheOz"
      },
      "execution_count": 85,
      "outputs": []
    },
    {
      "cell_type": "code",
      "source": [
        "from sklearn.linear_model import LogisticRegression\n",
        "\n",
        "\n"
      ],
      "metadata": {
        "id": "cY274VMKbx7x"
      },
      "execution_count": 37,
      "outputs": []
    },
    {
      "cell_type": "code",
      "source": [
        "logreg = LogisticRegression(max_iter=100)"
      ],
      "metadata": {
        "id": "EboERWZpdbR_"
      },
      "execution_count": 56,
      "outputs": []
    },
    {
      "cell_type": "code",
      "source": [
        "import numpy as np\n",
        "from sklearn.metrics import accuracy_score\n",
        "from sklearn.metrics import confusion_matrix\n"
      ],
      "metadata": {
        "id": "9lz1GqONfcoW"
      },
      "execution_count": 62,
      "outputs": []
    },
    {
      "cell_type": "code",
      "source": [
        "logreg.fit(x_train,y_train)\n",
        "y_pred_logreg = logreg.predict(x_test)\n",
        "\n",
        "accuracy_logreg = accuracy_score(y_test,y_pred_logreg)\n",
        "print('Logistics Regresiion Accuracy:',accuracy_logreg)"
      ],
      "metadata": {
        "colab": {
          "base_uri": "https://localhost:8080/"
        },
        "id": "40vchxulgK5n",
        "outputId": "bd958a62-d13f-429d-b791-208a444ee00f"
      },
      "execution_count": 58,
      "outputs": [
        {
          "output_type": "stream",
          "name": "stdout",
          "text": [
            "Logistics Regresiion Accuracy: 0.9258\n"
          ]
        },
        {
          "output_type": "stream",
          "name": "stderr",
          "text": [
            "/usr/local/lib/python3.10/dist-packages/sklearn/linear_model/_logistic.py:458: ConvergenceWarning: lbfgs failed to converge (status=1):\n",
            "STOP: TOTAL NO. of ITERATIONS REACHED LIMIT.\n",
            "\n",
            "Increase the number of iterations (max_iter) or scale the data as shown in:\n",
            "    https://scikit-learn.org/stable/modules/preprocessing.html\n",
            "Please also refer to the documentation for alternative solver options:\n",
            "    https://scikit-learn.org/stable/modules/linear_model.html#logistic-regression\n",
            "  n_iter_i = _check_optimize_result(\n"
          ]
        }
      ]
    },
    {
      "cell_type": "code",
      "source": [
        "cm_svc = confusion_matrix(y_test,y_pred_logreg)"
      ],
      "metadata": {
        "id": "Y388GFxqj4xl"
      },
      "execution_count": 63,
      "outputs": []
    },
    {
      "cell_type": "code",
      "source": [
        "import seaborn as sns\n"
      ],
      "metadata": {
        "id": "cCnAk_j2m00t"
      },
      "execution_count": 65,
      "outputs": []
    },
    {
      "cell_type": "code",
      "source": [
        "\n",
        "sns.heatmap(cm_svc,annot = True, xticklabels='true',yticklabels = 'predicted')\n"
      ],
      "metadata": {
        "colab": {
          "base_uri": "https://localhost:8080/",
          "height": 447
        },
        "id": "yVWXRSNdnDXi",
        "outputId": "71012882-be62-4e59-fd70-21aceb337972"
      },
      "execution_count": 67,
      "outputs": [
        {
          "output_type": "execute_result",
          "data": {
            "text/plain": [
              "<Axes: >"
            ]
          },
          "metadata": {},
          "execution_count": 67
        },
        {
          "output_type": "display_data",
          "data": {
            "text/plain": [
              "<Figure size 640x480 with 2 Axes>"
            ],
            "image/png": "[encoded data removed]"
          },
          "metadata": {}
        }
      ]
    },
    {
      "cell_type": "code",
      "source": [
        "from sklearn.svm import SVC\n",
        "svc = SVC(max_iter= 100)\n",
        "\n",
        "svc.fit(x_train,y_train)\n",
        "\n",
        "y_pred_svc = svc.predict(x_test)\n",
        "\n",
        "#calc accuracy\n",
        "accuracy_svc = confusion_matrix(y_test,y_pred_svc)\n",
        "\n",
        "#calc confusion matrix \n",
        "cm_svc = confusion_matrix(y_test,y_pred_svc)"
      ],
      "metadata": {
        "colab": {
          "base_uri": "https://localhost:8080/"
        },
        "id": "_gw-few-pZXT",
        "outputId": "29124cc4-acd6-4f14-bd36-a2b98f019b78"
      },
      "execution_count": 73,
      "outputs": [
        {
          "output_type": "stream",
          "name": "stderr",
          "text": [
            "/usr/local/lib/python3.10/dist-packages/sklearn/svm/_base.py:299: ConvergenceWarning: Solver terminated early (max_iter=100).  Consider pre-processing your data with StandardScaler or MinMaxScaler.\n",
            "  warnings.warn(\n"
          ]
        }
      ]
    },
    {
      "cell_type": "code",
      "source": [
        "import tensorflow as tf\n",
        "from tensorflow.keras.layers import Dense \n",
        "from tensorflow.keras.models import Sequential"
      ],
      "metadata": {
        "id": "NACfu_mAqj1p"
      },
      "execution_count": 77,
      "outputs": []
    },
    {
      "cell_type": "code",
      "source": [
        "model = Sequential()\n",
        "\n",
        "model.add(Dense(128,activation=\"relu\", input_shape=(28*28, ) ))\n",
        "model.add(Dense(64,activation=\"relu\",  ))\n",
        "model.add(Dense(10,activation=\"softmax\",  ))\n",
        "\n"
      ],
      "metadata": {
        "id": "mZzKij8y1Kmu"
      },
      "execution_count": 78,
      "outputs": []
    },
    {
      "cell_type": "code",
      "source": [
        "x_train,x_test = x_train/255.0,x_test/255.0\n",
        "x_train = x_train.reshape((x_train.shape[0],28*28))\n",
        "x_test = x_test.reshape((x_test.shape[0],28*28))"
      ],
      "metadata": {
        "id": "1qo-F9G86_si"
      },
      "execution_count": 89,
      "outputs": []
    },
    {
      "cell_type": "code",
      "source": [
        "model.compile(optimizer = 'adam',\n",
        "              loss = 'sparse_categorical_crossentropy',\n",
        "              metrics= ['accuracy'])\n",
        "\n",
        "model.fit(\n",
        "    x_train,\n",
        "    y_train,\n",
        "    epochs=2,\n",
        "    batch_size=32,\n",
        "    validation_data=(x_test,y_test)\n",
        ")"
      ],
      "metadata": {
        "colab": {
          "base_uri": "https://localhost:8080/"
        },
        "id": "iNDfP1TV4tuC",
        "outputId": "da79efc9-208b-40f2-8583-f5ba6279f50f"
      },
      "execution_count": 93,
      "outputs": [
        {
          "output_type": "stream",
          "name": "stdout",
          "text": [
            "Epoch 1/2\n",
            "1875/1875 [==============================] - 14s 7ms/step - loss: 0.3296 - accuracy: 0.9050 - val_loss: 0.2969 - val_accuracy: 0.9117\n",
            "Epoch 2/2\n",
            "1875/1875 [==============================] - 10s 5ms/step - loss: 0.2883 - accuracy: 0.9158 - val_loss: 0.2666 - val_accuracy: 0.9222\n"
          ]
        },
        {
          "output_type": "execute_result",
          "data": {
            "text/plain": [
              "<keras.callbacks.History at 0x7f3df3eb6b00>"
            ]
          },
          "metadata": {},
          "execution_count": 93
        }
      ]
    },
    {
      "cell_type": "code",
      "source": [
        "from sklearn.metrics import f1_score\n",
        "from sklearn.metrics import precision_score\n",
        "from sklearn.metrics import recall_score"
      ],
      "metadata": {
        "id": "YcxX0o1V-w9Y"
      },
      "execution_count": 101,
      "outputs": []
    },
    {
      "cell_type": "code",
      "source": [
        "test_loss,test_acc = model.evaluate(x_test,y_test)\n",
        "y_pred_nn = model.predict(x_test)\n",
        "f1_score_nn = f1_score(y_test,\n",
        "                       np.argmax(y_pred_nn,axis=1),\n",
        "                       average = 'weighted')\n",
        "precision = precision_score(y_test,\n",
        "                            np.argmax(y_pred_nn,axis = 1),\n",
        "                            average = 'weighted')\n",
        "\n",
        "recall = recall_score(y_test,np.argmax(y_pred_nn,axis=1),average = 'weighted')\n",
        "\n",
        "#print the results\n",
        "print('NN Loss:',test_loss)\n",
        "print('NN Accuracy:',test_acc)\n",
        "print('NN F1 score:',f1_score_nn)\n",
        "print('NN Precision:',precision)\n",
        "print('NN Recall score:',recall)\n",
        "\n",
        "\n",
        "\n"
      ],
      "metadata": {
        "colab": {
          "base_uri": "https://localhost:8080/"
        },
        "id": "dlb52IC75Nd4",
        "outputId": "6dd29d17-3faf-4518-90cd-9eb281bb2136"
      },
      "execution_count": 102,
      "outputs": [
        {
          "output_type": "stream",
          "name": "stdout",
          "text": [
            "313/313 [==============================] - 1s 3ms/step - loss: 0.2666 - accuracy: 0.9222\n",
            "313/313 [==============================] - 1s 2ms/step\n",
            "NN Loss: 0.2666165232658386\n",
            "NN Accuracy: 0.9222000241279602\n",
            "NN F1 score: 0.9219577734853165\n",
            "NN Precision: 0.9223138292008946\n",
            "NN Recall score: 0.9222\n"
          ]
        }
      ]
    },
    {
      "cell_type": "code",
      "source": [
        "from sklearn.metrics import classification_report"
      ],
      "metadata": {
        "id": "iPEQC3qA-USJ"
      },
      "execution_count": 103,
      "outputs": []
    },
    {
      "cell_type": "code",
      "source": [
        "cr = classification_report(y_test,np.argmax(y_pred_nn,axis=1))\n",
        "print(cr)"
      ],
      "metadata": {
        "colab": {
          "base_uri": "https://localhost:8080/"
        },
        "id": "Nap2lhQQAMzN",
        "outputId": "5a664003-8a70-4a4d-bb6f-0eb9390c4ed2"
      },
      "execution_count": 104,
      "outputs": [
        {
          "output_type": "stream",
          "name": "stdout",
          "text": [
            "              precision    recall  f1-score   support\n",
            "\n",
            "           0       0.93      0.98      0.95       980\n",
            "           1       0.96      0.98      0.97      1135\n",
            "           2       0.93      0.90      0.92      1032\n",
            "           3       0.89      0.92      0.91      1010\n",
            "           4       0.92      0.94      0.93       982\n",
            "           5       0.87      0.88      0.87       892\n",
            "           6       0.96      0.93      0.95       958\n",
            "           7       0.92      0.93      0.93      1028\n",
            "           8       0.91      0.85      0.88       974\n",
            "           9       0.92      0.89      0.91      1009\n",
            "\n",
            "    accuracy                           0.92     10000\n",
            "   macro avg       0.92      0.92      0.92     10000\n",
            "weighted avg       0.92      0.92      0.92     10000\n",
            "\n"
          ]
        }
      ]
    },
    {
      "cell_type": "code",
      "source": [],
      "metadata": {
        "id": "I-vr_EOWAjV4"
      },
      "execution_count": null,
      "outputs": []
    }
  ]
}