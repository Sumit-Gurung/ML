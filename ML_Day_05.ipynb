{
  "nbformat": 4,
  "nbformat_minor": 0,
  "metadata": {
    "colab": {
      "provenance": []
    },
    "kernelspec": {
      "name": "python3",
      "display_name": "Python 3"
    },
    "language_info": {
      "name": "python"
    }
  },
  "cells": [
    {
      "cell_type": "code",
      "execution_count": 16,
      "metadata": {
        "id": "Ljgww_xNtAUs"
      },
      "outputs": [],
      "source": [
        "from tensorflow.keras.layers import Conv2D,  MaxPooling2D , Flatten ,Dense\n",
        "from tensorflow.keras.utils import to_categorical \n",
        "from tensorflow.keras.models import Sequential\n",
        "\n",
        "\n",
        "\n"
      ]
    },
    {
      "cell_type": "code",
      "source": [
        "from tensorflow.keras.datasets import mnist\n",
        "(x_train, y_train), (x_test, y_test) = mnist.load_data()"
      ],
      "metadata": {
        "colab": {
          "base_uri": "https://localhost:8080/"
        },
        "id": "YiPkhuAv6vbz",
        "outputId": "673bfaba-4f19-44ac-c1a9-6119f8263ece"
      },
      "execution_count": 10,
      "outputs": [
        {
          "output_type": "stream",
          "name": "stdout",
          "text": [
            "Downloading data from https://storage.googleapis.com/tensorflow/tf-keras-datasets/mnist.npz\n",
            "11490434/11490434 [==============================] - 0s 0us/step\n"
          ]
        }
      ]
    },
    {
      "cell_type": "code",
      "source": [
        "x_train_cnn = x_train.reshape((x_train.shape[0],28,28,1))\n",
        "x_test_cnn = x_test.reshape((x_test.shape[0],28,28,1))\n",
        "\n",
        "y_train_cnn = to_categorical(y_train)\n",
        "y_test_cnn = to_categorical(y_test)\n",
        "\n",
        "\n",
        "\n"
      ],
      "metadata": {
        "id": "OCyVsWAV5yrX"
      },
      "execution_count": 21,
      "outputs": []
    },
    {
      "cell_type": "code",
      "source": [
        "model_cnn = Sequential()\n",
        "model_cnn.add(Conv2D(32,(3,3),activation = 'relu', input_shape =(28,28,1) ))\n",
        "model_cnn.add(MaxPooling2D(2,2))\n",
        "model_cnn.add(Conv2D(64,(3,3),activation = 'relu' ))\n",
        "model_cnn.add(MaxPooling2D(2,2))\n",
        "model_cnn.add(Flatten())\n",
        "model_cnn.add(Dense(64,activation = 'relu'))\n",
        "model_cnn.add(Dense(10,activation = 'softmax'))\n",
        "\n",
        "\n",
        "model_cnn.compile(optimizer = 'adam',\n",
        "              loss = 'categorical_crossentropy',\n",
        "              metrics= ['accuracy'])\n",
        "\n",
        "\n",
        "\n",
        "\n",
        "\n",
        "\n",
        "\n"
      ],
      "metadata": {
        "id": "KmIeKZhh62Xc"
      },
      "execution_count": 22,
      "outputs": []
    },
    {
      "cell_type": "code",
      "source": [
        "model_cnn.fit(\n",
        "    x_train_cnn,\n",
        "    y_train_cnn,\n",
        "    epochs=2,\n",
        "    batch_size=32,\n",
        "    validation_data=(x_test_cnn,y_test_cnn)\n",
        ")"
      ],
      "metadata": {
        "colab": {
          "base_uri": "https://localhost:8080/"
        },
        "id": "UmnuUuHq8DF-",
        "outputId": "8535c345-2bd4-4717-dfe2-537e9adf487e"
      },
      "execution_count": 23,
      "outputs": [
        {
          "output_type": "stream",
          "name": "stdout",
          "text": [
            "Epoch 1/2\n",
            "1875/1875 [==============================] - 56s 29ms/step - loss: 0.3837 - accuracy: 0.9398 - val_loss: 0.0776 - val_accuracy: 0.9756\n",
            "Epoch 2/2\n",
            "1875/1875 [==============================] - 55s 29ms/step - loss: 0.0714 - accuracy: 0.9788 - val_loss: 0.0642 - val_accuracy: 0.9816\n"
          ]
        },
        {
          "output_type": "execute_result",
          "data": {
            "text/plain": [
              "<keras.callbacks.History at 0x7f0334121630>"
            ]
          },
          "metadata": {},
          "execution_count": 23
        }
      ]
    },
    {
      "cell_type": "code",
      "source": [],
      "metadata": {
        "id": "Q0twqVEm8oRJ"
      },
      "execution_count": null,
      "outputs": []
    }
  ]
}